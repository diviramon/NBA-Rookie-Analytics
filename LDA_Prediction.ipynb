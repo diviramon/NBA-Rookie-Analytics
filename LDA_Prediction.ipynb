{
  "nbformat": 4,
  "nbformat_minor": 0,
  "metadata": {
    "kernelspec": {
      "display_name": "Python 3",
      "language": "python",
      "name": "python3"
    },
    "language_info": {
      "codemirror_mode": {
        "name": "ipython",
        "version": 3
      },
      "file_extension": ".py",
      "mimetype": "text/x-python",
      "name": "python",
      "nbconvert_exporter": "python",
      "pygments_lexer": "ipython3",
      "version": "3.8.6"
    },
    "colab": {
      "name": "LDA-Prediction.ipynb",
      "provenance": [],
      "include_colab_link": true
    }
  },
  "cells": [
    {
      "cell_type": "markdown",
      "metadata": {
        "id": "view-in-github",
        "colab_type": "text"
      },
      "source": [
        "<a href=\"https://colab.research.google.com/github/diviramon/NBA-Rookie-Analytics/blob/main/LDA_Prediction.ipynb\" target=\"_parent\"><img src=\"https://colab.research.google.com/assets/colab-badge.svg\" alt=\"Open In Colab\"/></a>"
      ]
    },
    {
      "cell_type": "code",
      "metadata": {
        "id": "dKLzrkoBaGXo"
      },
      "source": [
        "'''\n",
        " This notebook was used to:\n",
        " 1) Given clustering results k-mean, and complete ward linkage, merge with rookie season and second season data\n",
        " 2) Calculate LDA features and visualize correlation matrices for the 4 cases\n",
        "     a) rookie season complete ward linkage\n",
        "     b) first two seasons complete ward linkage\n",
        "     c) rookie season k-means\n",
        "     d) first two seasons k-means\n",
        " 3) Train the 4 classification models using 10-fold cross validation to produce the results for the report\n",
        "'''"
      ],
      "execution_count": null,
      "outputs": []
    },
    {
      "cell_type": "code",
      "metadata": {
        "id": "RqoSiEohaGX8"
      },
      "source": [
        "# calculates rookie season data given the results from clustering\n",
        "def calculate_first_season_data(results_file, output_file):\n",
        "    results = pd.read_csv(results_file)\n",
        "    seasons = pd.read_csv('seasons.csv')\n",
        "    seasons = seasons.dropna()\n",
        "    seasons = seasons.rename(columns={'Player': 'PLAYER'})\n",
        "    rookie_seasons = seasons.groupby('PLAYER').apply(first_season).reset_index(drop=True)\n",
        "    results = pd.merge(results, rookie_seasons, on='PLAYER')\n",
        "    results.to_csv(output_file)\n",
        "\n",
        "# calculates first and second season data given the results from clusting\n",
        "def calculate_first_and_second_season_data(results_file, output_file):\n",
        "    results = pd.read_csv(results_file)\n",
        "    seasons = pd.read_csv('seasons.csv')\n",
        "    seasons = seasons.dropna()\n",
        "    seasons = seasons.rename(columns={'Player': 'PLAYER'})\n",
        "    seasons = seasons.groupby('PLAYER').apply(two_seasons).reset_index(drop=True)\n",
        "    results = pd.merge(results, seasons, on='PLAYER')\n",
        "    results.to_csv(output_file)\n",
        "\n",
        "# takes first entry in the group as data is ordered ascending by year\n",
        "def first_season(seasons):\n",
        "    return seasons.iloc[0]\n",
        "\n",
        "# takes first two entries and produces the mean\n",
        "def two_seasons(seasons):\n",
        "    if len(seasons) >= 2:\n",
        "        df = seasons.iloc[:2]\n",
        "        df = df.mean()\n",
        "        data = {\n",
        "        'PPG': df['PPG'],      \n",
        "        'APG': df['APG'],\n",
        "        'SPG': df['SPG'],\n",
        "        'BPG': df['BPG'],\n",
        "        'FTPG': df['FTPG'],\n",
        "        'FTAPG': df['FTAPG'],\n",
        "        '3PPG': df['3PPG'],\n",
        "        '3PAPG': df['3PAPG'],\n",
        "        'MPG': df['MPG'],\n",
        "        '2PPG': df['2PPG'],\n",
        "        '2PAPG': df['2PAPG'],\n",
        "        'FGPG': df['FGPG'],\n",
        "        'FGAPG': df['FGAPG'],\n",
        "        'PFPG': df['PFPG'],\n",
        "        'ORBPG': df['ORBPG'],\n",
        "        'DRBPG': df['DRBPG'],\n",
        "        'TRBPG': df['TRBPG'],\n",
        "        'TOVPG': df['TOVPG'],\n",
        "        'PER': df['PER'],\n",
        "        'TS%': df['TS%'],\n",
        "        '3PAr': df['3PAr'],\n",
        "        'FTr': df['FTr'],\n",
        "        'ORB%': df['ORB%'],\n",
        "        'DRB%': df['DRB%'],\n",
        "        'TRB%': df['TRB%'],\n",
        "        'AST%': df['AST%'],\n",
        "        'STL%': df['STL%'],\n",
        "        'BLK%': df['BLK%'],\n",
        "        'TOV%': df['TOV%'],\n",
        "        'USG%': df['USG%'],\n",
        "        'OWS': df['OWS'],\n",
        "        'DWS': df['DWS'],\n",
        "        'WS': df['WS'],\n",
        "        'WS/48': df['WS/48'],\n",
        "        'OBPM': df['OBPM'],\n",
        "        'DBPM': df['DBPM'],\n",
        "        'BPM': df['BPM'],\n",
        "        'VORP': df['VORP'],\n",
        "        'FG%': df['FG%'],\n",
        "        '3P%': df['3P%'],\n",
        "        '2P%': df['2P%'],\n",
        "        'eFG%': df['eFG%'],\n",
        "        'FT%': df['FT%'],\n",
        "        'PLAYER': seasons.iloc[0].PLAYER,\n",
        "        }\n",
        "        return pd.Series(data)\n",
        "    data = {\n",
        "    'PPG': None,      \n",
        "    'APG': None,\n",
        "    'SPG': None,\n",
        "    'BPG': None,\n",
        "    'FTPG': None,\n",
        "    'FTAPG': None,\n",
        "    '3PPG': None,\n",
        "    '3PAPG': None,\n",
        "    'MPG': None,\n",
        "    '2PPG': None,\n",
        "    '2PAPG': None,\n",
        "    'FGPG': None,\n",
        "    'FGAPG': None,\n",
        "    'PFPG': None,\n",
        "    'ORBPG': None,\n",
        "    'DRBPG': None,\n",
        "    'TRBPG': None,\n",
        "    'TOVPG': None,\n",
        "    'PER': None,\n",
        "    'TS%': None,\n",
        "    '3PAr': None,\n",
        "    'FTr': None,\n",
        "    'ORB%': None,\n",
        "    'DRB%': None,\n",
        "    'TRB%': None,\n",
        "    'AST%': None,\n",
        "    'STL%': None,\n",
        "    'BLK%': None,\n",
        "    'TOV%': None,\n",
        "    'USG%': None,\n",
        "    'OWS': None,\n",
        "    'DWS': None,\n",
        "    'WS': None,\n",
        "    'WS/48': None,\n",
        "    'OBPM': None,\n",
        "    'DBPM': None,\n",
        "    'BPM': None,\n",
        "    'VORP': None,\n",
        "    'FG%': None,\n",
        "    '3P%': None,\n",
        "    '2P%': None,\n",
        "    'eFG%': None,\n",
        "    'FT%': None,\n",
        "    'PLAYER': seasons.iloc[0].PLAYER,\n",
        "    }\n",
        "    return pd.Series(data)"
      ],
      "execution_count": null,
      "outputs": []
    },
    {
      "cell_type": "code",
      "metadata": {
        "id": "YXZlZXbJaGX-"
      },
      "source": [
        "# library used for data manipulation\n",
        "import pandas as pd"
      ],
      "execution_count": null,
      "outputs": []
    },
    {
      "cell_type": "code",
      "metadata": {
        "id": "wr6ttL36aGX-"
      },
      "source": [
        "# csv file names for storage - notebook will create these files\n",
        "first_season_complete = 'first_season_complete.csv'\n",
        "two_season_complete = 'two_season_complete.csv'\n",
        "first_season_k_cluster = 'first_season_k_cluster.csv'\n",
        "two_season_k_cluster = 'two_season_k_cluster.csv'\n",
        "\n",
        "# creates first season and second season datasets from complete ward linkage from results-complete.csv produced by ________\n",
        "calculate_first_season_data('results-complete.csv', first_season_complete)\n",
        "calculate_first_and_second_season_data('results-complete.csv', two_season_complete)\n",
        "\n",
        "# creates first season and second season datasets from k-means from results-k-cluster.csv produced by __________\n",
        "calculate_first_season_data('results-k-cluster.csv', first_season_k_cluster)\n",
        "calculate_first_and_second_season_data('results-k-cluster.csv', two_season_k_cluster)"
      ],
      "execution_count": null,
      "outputs": []
    },
    {
      "cell_type": "code",
      "metadata": {
        "id": "ml7dcyD5aGX_"
      },
      "source": [
        "# cleaning method for rookie season data - drops unnecessary columns\n",
        "def clean_first_season(file):\n",
        "    seasons = pd.read_csv(file)\n",
        "    return seasons.drop(columns=['Unnamed: 0', 'Unnamed: 0_x', 'Unnamed: 0_y', 'PLAYER', 'Year', 'Pos', 'Tm'])"
      ],
      "execution_count": null,
      "outputs": []
    },
    {
      "cell_type": "code",
      "metadata": {
        "id": "fEVtYEAcaGX_"
      },
      "source": [
        "# cleaning method for first and second season data - drops unnecessary columns\n",
        "def clean_two_season(file):\n",
        "    seasons = pd.read_csv(file)\n",
        "    return seasons.drop(columns=['Unnamed: 0', 'Unnamed: 0.1', 'PLAYER'])"
      ],
      "execution_count": null,
      "outputs": []
    },
    {
      "cell_type": "code",
      "metadata": {
        "id": "T7HFdX1paGYA"
      },
      "source": [
        "# use cleaning method on complete ward linkage data\n",
        "fs_complete_data = clean_first_season(first_season_complete)\n",
        "ts_complete_data = clean_two_season(two_season_complete)\n",
        "\n",
        "# use cleaning method on k-means data\n",
        "fs_cluster_data = clean_first_season(first_season_k_cluster)\n",
        "ts_cluster_data = clean_two_season(two_season_k_cluster)"
      ],
      "execution_count": null,
      "outputs": []
    },
    {
      "cell_type": "code",
      "metadata": {
        "id": "YM8Zjhp5aGYA"
      },
      "source": [
        "# LDA tool used for feature calculation\n",
        "from sklearn.discriminant_analysis import LinearDiscriminantAnalysis as LDA\n",
        "# preproccessing tool for normalizing input data\n",
        "from sklearn.preprocessing import StandardScaler\n",
        "\n",
        "# custom method for splitting the merged data set into X - inputs, y - outputs\n",
        "# returns X, y\n",
        "def split_x_y(data):\n",
        "    return data.drop(columns=['CLUSTER']).to_numpy(), data['CLUSTER'].to_numpy()\n",
        "\n",
        "# custom method, given a pandas dataframe, calculate the LDA features, returns X (LDA) and y\n",
        "def get_lda_features(data):\n",
        "    X, y = split_x_y(data)\n",
        "    sc = StandardScaler()\n",
        "    X = sc.fit_transform(X)\n",
        "    lda = LDA()\n",
        "    return lda.fit_transform(X, y), y\n",
        "\n",
        "# merges y and X to produce a data frame which can be used to produce a correlation matrix\n",
        "def get_merged_io(lda, data):\n",
        "    classes = pd.DataFrame(split_x_y(data)[1])\n",
        "    features = pd.DataFrame(lda)\n",
        "    result = pd.merge(classes, features, left_index=True, right_index=True)\n",
        "    return result.rename(columns={'0_x':'CLASS', '0_y': '0'})\n",
        "    "
      ],
      "execution_count": null,
      "outputs": []
    },
    {
      "cell_type": "code",
      "metadata": {
        "id": "xpUHOOBEaGYB"
      },
      "source": [
        "# calculating lda features and outputs as a dataframe to be used to produce\n",
        "# the corresponding correlation matrix for each case\n",
        "fs_complete_data_lda = get_merged_io(get_lda_features(fs_complete_data)[0], fs_complete_data)\n",
        "ts_complete_data_lda = get_merged_io(get_lda_features(ts_complete_data[0]), ts_complete_data)\n",
        "fs_cluster_data_lda = get_merged_io(get_lda_features(fs_cluster_data)[0], fs_cluster_data)\n",
        "ts_cluster_data_lda = get_merged_io(get_lda_features(ts_cluster_data)[0], ts_cluster_data)"
      ],
      "execution_count": null,
      "outputs": []
    },
    {
      "cell_type": "code",
      "metadata": {
        "id": "fi4O_hwVaGYC"
      },
      "source": [
        "# library for producing plots and graphs\n",
        "import matplotlib.pyplot as plt\n",
        "# opensource library https://pypi.org/project/heatmapz for correlation matrices\n",
        "# have to pip install package to use\n",
        "from heatmap import heatmap, corrplot\n",
        "\n",
        "# custom method for plotting and saving correlation matrices\n",
        "def plot_and_save_corr_matrix(data, file_name, matrix_name):\n",
        "    fig = plt.figure(figsize=(19, 15))\n",
        "    corrplot(data.corr(), size_scale=300)\n",
        "    plt.title(matrix_name, fontsize=16)\n",
        "    fig.savefig(file_name)"
      ],
      "execution_count": null,
      "outputs": []
    },
    {
      "cell_type": "code",
      "metadata": {
        "id": "7D63nAWnaGYC",
        "outputId": "75286de8-20d3-476f-b882-d3c08e3fbadd"
      },
      "source": [
        "# case a\n",
        "plot_and_save_corr_matrix(fs_complete_data_lda, 'fs_complete_data_lda.png', 'First Season Hierachal Clustering LDA Correlation Matrix')"
      ],
      "execution_count": null,
      "outputs": [
        {
          "output_type": "display_data",
          "data": {
            "image/png": "[encoded data removed]",
            "text/plain": [
              "<Figure size 1368x1080 with 2 Axes>"
            ]
          },
          "metadata": {
            "tags": [],
            "needs_background": "light"
          }
        }
      ]
    },
    {
      "cell_type": "code",
      "metadata": {
        "id": "ndkhaENPaGYE",
        "outputId": "cbbe0e17-e3d5-45c0-b054-c1276c9fb737"
      },
      "source": [
        "# case b\n",
        "plot_and_save_corr_matrix(ts_complete_data_lda, 'ts_complete_data_lda.png', 'First Two Seasons Hierachal Clustering LDA Correlation Matrix')"
      ],
      "execution_count": null,
      "outputs": [
        {
          "output_type": "display_data",
          "data": {
            "image/png": "[encoded data removed]",
            "text/plain": [
              "<Figure size 1368x1080 with 2 Axes>"
            ]
          },
          "metadata": {
            "tags": [],
            "needs_background": "light"
          }
        }
      ]
    },
    {
      "cell_type": "code",
      "metadata": {
        "id": "O9Z6GrRLaGYE",
        "outputId": "37b44727-5c9d-48c1-d462-70bf2e471c5b"
      },
      "source": [
        "# case c\n",
        "plot_and_save_corr_matrix(fs_cluster_data_lda, 'fs_cluster_data_lda.png', 'First Season K-Means Clustering LDA')"
      ],
      "execution_count": null,
      "outputs": [
        {
          "output_type": "display_data",
          "data": {
            "image/png": "[encoded data removed]",
            "text/plain": [
              "<Figure size 1368x1080 with 2 Axes>"
            ]
          },
          "metadata": {
            "tags": [],
            "needs_background": "light"
          }
        }
      ]
    },
    {
      "cell_type": "code",
      "metadata": {
        "id": "zzjKo89ZaGYE",
        "outputId": "c4540439-93a2-49c0-8877-bc8042e4c06d"
      },
      "source": [
        "# case d\n",
        "plot_and_save_corr_matrix(ts_cluster_data_lda, 'ts_cluster_data_lda.png', 'First Two Seasons K-Means Clustering LDA')"
      ],
      "execution_count": null,
      "outputs": [
        {
          "output_type": "display_data",
          "data": {
            "image/png": "[encoded data removed]",
            "text/plain": [
              "<Figure size 1368x1080 with 2 Axes>"
            ]
          },
          "metadata": {
            "tags": [],
            "needs_background": "light"
          }
        }
      ]
    },
    {
      "cell_type": "code",
      "metadata": {
        "id": "Kc7YzqQoaGYF"
      },
      "source": [
        "# import model from sklearn - opensource machinelearning library\n",
        "from sklearn.neural_network import MLPClassifier\n",
        "from sklearn.naive_bayes import GaussianNB\n",
        "from sklearn.ensemble import RandomForestClassifier, GradientBoostingClassifier\n",
        "# class used for 10-fold cross validation\n",
        "from sklearn.model_selection import KFold\n",
        "\n",
        "# initialize and store classifier models in a dictionary to loop through and print results\n",
        "classifiers = {\n",
        "    'mlp': MLPClassifier(alpha=1, max_iter=1000, hidden_layer_sizes=(100,1000,100), verbose=False, learning_rate_init=0.001, tol=0.0000001),\n",
        "    'nb': GaussianNB(),\n",
        "    'random-forest': RandomForestClassifier(),\n",
        "    'gradient-boost': GradientBoostingClassifier(),\n",
        "}\n",
        "\n",
        "# custom training method which uses 10-fold cross validation to train \n",
        "# a classifier given X, and y. This method returns the maximum and average accuracy of\n",
        "# the classifier\n",
        "def train_classifier(classifier, X, y):\n",
        "    kf = KFold(n_splits=10)\n",
        "    kf.get_n_splits(X)\n",
        "    scores = []\n",
        "    for train_index, test_index in kf.split(X):\n",
        "        X_train, X_test = X[train_index], X[test_index]\n",
        "        y_train, y_test = y[train_index], y[test_index]\n",
        "        classifier.fit(X_train, y_train)\n",
        "        score = classifier.score(X_test, y_test)\n",
        "        scores.append(score)\n",
        "    return max(scores), sum(scores)/len(scores)"
      ],
      "execution_count": null,
      "outputs": []
    },
    {
      "cell_type": "code",
      "metadata": {
        "id": "RfS3PGtMaGYF",
        "outputId": "5b4b7579-dcc2-4d4a-cbf7-4826823c40d5"
      },
      "source": [
        "# Get the lda features for the rookie season k-means data\n",
        "X, y = get_lda_features(fs_cluster_data)\n",
        "# Loop through the dictionary of desired classifiers, train each one, and print the results\n",
        "for classifier in classifiers.keys():\n",
        "    results = train_classifier(classifiers[classifier], X,y)\n",
        "    print('{0}: {1}'.format(classifier, results))"
      ],
      "execution_count": null,
      "outputs": [
        {
          "output_type": "stream",
          "text": [
            "mlp: (0.6956521739130435, 0.6340579710144929)\n",
            "nb: (0.7391304347826086, 0.6558454106280194)\n",
            "random-forest: (0.7391304347826086, 0.6253623188405797)\n",
            "gradient-boost: (0.6521739130434783, 0.5795169082125604)\n"
          ],
          "name": "stdout"
        }
      ]
    },
    {
      "cell_type": "code",
      "metadata": {
        "id": "c0MxkrOfaGYG",
        "outputId": "f7302bcb-69b3-4596-f74f-c0ba52e79ef2"
      },
      "source": [
        "# Get the lda features for the first two seasons k-means data\n",
        "X, y = get_lda_features(ts_cluster_data)\n",
        "# Loop through the dictionary of desired classifiers, train each one, and print the results\n",
        "for classifier in classifiers.keys():\n",
        "    results = train_classifier(classifiers[classifier], X, y)\n",
        "    print('{0}: {1}'.format(classifier, results))"
      ],
      "execution_count": null,
      "outputs": [
        {
          "output_type": "stream",
          "text": [
            "mlp: (0.782608695652174, 0.6579227053140098)\n",
            "nb: (0.8043478260869565, 0.6971980676328503)\n",
            "random-forest: (0.782608695652174, 0.6753623188405797)\n",
            "gradient-boost: (0.7608695652173914, 0.6297101449275363)\n"
          ],
          "name": "stdout"
        }
      ]
    },
    {
      "cell_type": "code",
      "metadata": {
        "id": "tazOScjYaGYG",
        "outputId": "5c060618-0564-41b3-d401-8a43705f2ec3"
      },
      "source": [
        "# Get the lda features for the rookie season complete ward linkage data\n",
        "X, y = get_lda_features(fs_complete_data)\n",
        "# Loop through the dictionary of desired classifiers, train each one, and print the results\n",
        "for classifier in classifiers.keys():\n",
        "    results = train_classifier(classifiers[classifier], X, y)\n",
        "    print('{0}: {1}'.format(classifier, results))"
      ],
      "execution_count": null,
      "outputs": [
        {
          "output_type": "stream",
          "text": [
            "mlp: (0.8913043478260869, 0.8497584541062804)\n",
            "nb: (0.9130434782608695, 0.8540579710144927)\n",
            "random-forest: (0.9347826086956522, 0.8476328502415459)\n",
            "gradient-boost: (0.9347826086956522, 0.838937198067633)\n"
          ],
          "name": "stdout"
        }
      ]
    },
    {
      "cell_type": "code",
      "metadata": {
        "id": "o9Q5mPdmaGYH",
        "outputId": "633aacf1-0ba2-4921-e33d-7f04f911bf40"
      },
      "source": [
        "# Get the lda features for the first two seasons complete ward linkage data\n",
        "X, y = get_lda_features(ts_complete_data)\n",
        "# Loop through the dictionary of desired classifiers, train each one, and print the results\n",
        "for classifier in classifiers.keys():\n",
        "    results = train_classifier(classifiers[classifier], X, y)\n",
        "    print('{0}: {1}'.format(classifier, results))"
      ],
      "execution_count": null,
      "outputs": [
        {
          "output_type": "stream",
          "text": [
            "mlp: (0.9565217391304348, 0.8693719806763285)\n",
            "nb: (0.9130434782608695, 0.8584057971014494)\n",
            "random-forest: (0.9130434782608695, 0.8628019323671499)\n",
            "gradient-boost: (0.8913043478260869, 0.8410628019323673)\n"
          ],
          "name": "stdout"
        }
      ]
    }
  ]
}